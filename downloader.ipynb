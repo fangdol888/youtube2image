{
 "cells": [
  {
   "cell_type": "code",
   "execution_count": 1,
   "metadata": {
    "scrolled": true
   },
   "outputs": [
    {
     "name": "stdout",
     "output_type": "stream",
     "text": [
      "Requirement already satisfied: pytube in c:\\users\\junhyeok\\appdata\\local\\programs\\python\\python310\\lib\\site-packages (12.1.0)\n"
     ]
    },
    {
     "name": "stderr",
     "output_type": "stream",
     "text": [
      "WARNING: You are using pip version 21.2.4; however, version 22.2.2 is available.\n",
      "You should consider upgrading via the 'C:\\Users\\JunHyeok\\AppData\\Local\\Programs\\Python\\Python310\\python.exe -m pip install --upgrade pip' command.\n"
     ]
    },
    {
     "name": "stdout",
     "output_type": "stream",
     "text": [
      "Requirement already satisfied: opencv-python in c:\\users\\junhyeok\\appdata\\local\\programs\\python\\python310\\lib\\site-packages (4.6.0.66)\n",
      "Requirement already satisfied: numpy>=1.14.5 in c:\\users\\junhyeok\\appdata\\local\\programs\\python\\python310\\lib\\site-packages (from opencv-python) (1.23.3)\n"
     ]
    },
    {
     "name": "stderr",
     "output_type": "stream",
     "text": [
      "WARNING: You are using pip version 21.2.4; however, version 22.2.2 is available.\n",
      "You should consider upgrading via the 'C:\\Users\\JunHyeok\\AppData\\Local\\Programs\\Python\\Python310\\python.exe -m pip install --upgrade pip' command.\n"
     ]
    }
   ],
   "source": [
    "!pip install pytube\n",
    "!pip install opencv-python"
   ]
  },
  {
   "cell_type": "code",
   "execution_count": 1,
   "metadata": {},
   "outputs": [],
   "source": [
    "from pytube import YouTube\n",
    "import os\n",
    "import glob\n",
    "import cv2\n",
    "\n",
    "\n",
    "file_dir = os.getcwd()\n",
    "txt_list = glob.glob(os.path.join(file_dir, 'list.txt'))"
   ]
  },
  {
   "cell_type": "code",
   "execution_count": 2,
   "id": "1f3dbb2f",
   "metadata": {},
   "outputs": [
    {
     "data": {
      "text/plain": [
       "'c:\\\\Users\\\\JunHyeok\\\\Desktop\\\\cvl\\\\youtube2image'"
      ]
     },
     "execution_count": 2,
     "metadata": {},
     "output_type": "execute_result"
    }
   ],
   "source": [
    "os.getcwd()"
   ]
  },
  {
   "cell_type": "code",
   "execution_count": 3,
   "id": "add3681c",
   "metadata": {
    "scrolled": true
   },
   "outputs": [
    {
     "name": "stdout",
     "output_type": "stream",
     "text": [
      "Downloading videos is started\n",
      "Video [4K HDR] 경기도 성남 판교신도시 야간드라이빙 2 (판교테크노밸리~판교원마을~산운마을) #Seongnam #Pangyo #Gyeonggi #Driving #Korea is downloading...\n",
      ">>> Something is wrong, stop downloading current file...\n",
      "\n",
      "Video [4K HDR] 경기도 북부 평화로 야간드라이빙 (의정부~양주덕정) #NightDriving #Uijeongbu #Yangju #Gyeonggi #Korea #Pyunghwa-ro is downloading...\n",
      ">>> Something is wrong, stop downloading current file...\n",
      "\n",
      "Video [4K] Long Beach🇺🇸 Night Drive - Driving Downtown - Long Beach, California is downloading...\n",
      ">>> Something is wrong, stop downloading current file...\n",
      "\n",
      "Video Hollywood 4K - Night Drive is downloading...\n",
      "Video [4K] Los Angeles🇺🇸 Night Drive - Sunset Boulevard - Driving Downtown is downloading...\n"
     ]
    }
   ],
   "source": [
    "#영상 다운로더 1\n",
    "\n",
    "for txt in txt_list:\n",
    "    file_name = os.path.basename(txt)\n",
    "    cls = file_name.split(\".\")[0]\n",
    "    \n",
    "    save_dir = os.path.join(file_dir,\"src\")\n",
    "    \n",
    "    if os.path.exists(save_dir) == False:\n",
    "        os.mkdir(save_dir)\n",
    "\n",
    "    print(f\"Downloading videos is started\")\n",
    "    \n",
    "    with open(txt, \"r\") as f:\n",
    "        urllines = f.readlines()\n",
    "\n",
    "        for idx ,url in enumerate(urllines):\n",
    "            yt = YouTube(url)\n",
    "            try:\n",
    "                print(f\"Video {yt.title} is downloading...\")\n",
    "                stream = yt.streams.filter(only_video=True).order_by('resolution').desc().first() #가장 화질 좋도록\n",
    "                stream.download(save_dir)\n",
    "            except:\n",
    "                print(\">>> Something is wrong, stop downloading current file...\\n\")\n",
    "            \n",
    "            \n",
    "        print(f\"< Downloading videos is finished >\\n\")\n",
    "\n",
    "print(\"Done!\")"
   ]
  },
  {
   "cell_type": "code",
   "execution_count": 1,
   "id": "0f4da3cb",
   "metadata": {},
   "outputs": [
    {
     "ename": "ModuleNotFoundError",
     "evalue": "No module named 'tqdm'",
     "output_type": "error",
     "traceback": [
      "\u001b[1;31m---------------------------------------------------------------------------\u001b[0m",
      "\u001b[1;31mModuleNotFoundError\u001b[0m                       Traceback (most recent call last)",
      "Cell \u001b[1;32mIn [1], line 5\u001b[0m\n\u001b[0;32m      3\u001b[0m \u001b[38;5;28;01mfrom\u001b[39;00m \u001b[38;5;21;01mpytube\u001b[39;00m \u001b[38;5;28;01mimport\u001b[39;00m YouTube\n\u001b[0;32m      4\u001b[0m \u001b[38;5;28;01mfrom\u001b[39;00m \u001b[38;5;21;01mpytube\u001b[39;00m \u001b[38;5;28;01mimport\u001b[39;00m Stream\n\u001b[1;32m----> 5\u001b[0m \u001b[38;5;28;01mfrom\u001b[39;00m \u001b[38;5;21;01mtqdm\u001b[39;00m \u001b[38;5;28;01mimport\u001b[39;00m tqdm\n\u001b[0;32m      7\u001b[0m \u001b[38;5;28;01mdef\u001b[39;00m \u001b[38;5;21mprogress_callback\u001b[39m(stream: Stream, data_chunk: \u001b[38;5;28mbytes\u001b[39m, bytes_remaining: \u001b[38;5;28mint\u001b[39m) \u001b[38;5;241m-\u001b[39m\u001b[38;5;241m>\u001b[39m \u001b[38;5;28;01mNone\u001b[39;00m:    \n\u001b[0;32m      8\u001b[0m     pbar\u001b[38;5;241m.\u001b[39mupdate(\u001b[38;5;28mlen\u001b[39m(data_chunk))\n",
      "\u001b[1;31mModuleNotFoundError\u001b[0m: No module named 'tqdm'"
     ]
    }
   ],
   "source": [
    "#영상 다운로더 2 (하나하나 해야됨)\n",
    "\n",
    "from pytube import YouTube\n",
    "from pytube import Stream\n",
    "from tqdm import tqdm\n",
    "\n",
    "def progress_callback(stream: Stream, data_chunk: bytes, bytes_remaining: int) -> None:    \n",
    "    pbar.update(len(data_chunk))\n",
    "\n",
    "\n",
    "yt = YouTube('https://youtu.be/q-V4knoQ_4Y'           #여기다 url\n",
    "             ,on_progress_callback=progress_callback)\n",
    "\n",
    "yt_streams=yt.streams\n",
    "\n",
    "for info, stream in enumerate(yt_streams):\n",
    "    print(info,'영상 정보 ==>> ',stream)\n",
    "\n",
    "\n",
    "itag = input('itag 숫자 선택해서 int 넣어주세요\\n2160p(4k) 중에서 프레임 낮고, vcodec숫자 낮은걸로(hdr인데 용량차이), type=video로 : ')\n",
    "# https://gist.github.com/sidneys/7095afe4da4ae58694d128b1034e01e2 에서 itag 숫자 참고해주세요. 2160p\n",
    "\n",
    "my_stream = yt_streams.get_by_itag(itag)\n",
    "print(my_stream,'다운합니다')\n",
    "pbar = tqdm(total=my_stream.filesize,unit=\"bytes\")\n",
    "\n",
    "my_stream.download()\n",
    "pbar.close()\n",
    "\n",
    "print('done')"
   ]
  },
  {
   "cell_type": "code",
   "execution_count": null,
   "metadata": {},
   "outputs": [],
   "source": [
    "def extract_frame(file_dir ,file_name):\n",
    "    \n",
    "    filepath = os.path.join(file_dir,\"src\", file_name)\n",
    "    video = cv2.VideoCapture(filepath) #'' 사이에 사용할 비디오 파일의 경로 및 이름을 넣어주도록 함\n",
    "    \n",
    "    if not video.isOpened():\n",
    "        print(\"Could not Open :\", filepath)\n",
    "        exit(0)\n",
    "\n",
    "\n",
    "    length = int(video.get(cv2.CAP_PROP_FRAME_COUNT))\n",
    "    width = int(video.get(cv2.CAP_PROP_FRAME_WIDTH))\n",
    "    height = int(video.get(cv2.CAP_PROP_FRAME_HEIGHT))\n",
    "    fps = video.get(cv2.CAP_PROP_FPS)\n",
    "\n",
    "    print(\"length :\", length)\n",
    "    print(\"width :\", width)\n",
    "    print(\"height :\", height)\n",
    "    print(\"fps :\", fps)\n",
    "    \n",
    "    frame_dir = os.path.join(file_dir,\"frame\")\n",
    "    frame_path = os.path.join(frame_dir, file_name[:-4])\n",
    "    \n",
    "    try:\n",
    "        if not os.path.exists(frame_path):\n",
    "            os.makedirs(frame_path)\n",
    "            \n",
    "    except OSError:\n",
    "        print ('Error: Creating directory. ' +  frame_path)\n",
    "\n",
    "    count = 0\n",
    "    success, image = video.read()\n",
    "    print(\"Read a new frame : \", success)\n",
    "        \n",
    "    while success:\n",
    "            print('Saved frame number :', count)\n",
    "            cv2.imwrite(frame_path + \"/frame%d.jpg\" % count, image)\n",
    "            video.set(cv2.CAP_PROP_POS_MSEC,(count*1000)) #1초 마다 추출\n",
    "            success, image = video.read()\n",
    "            print(\"Read a new frame : \", success)\n",
    "            count += 1\n",
    "\n",
    "    video.release()"
   ]
  },
  {
   "cell_type": "code",
   "execution_count": null,
   "metadata": {},
   "outputs": [],
   "source": [
    "filepath = os.path.join(file_dir, \"src\")\n",
    "file_list = []\n",
    "\n",
    "for file in os.listdir(filepath):\n",
    "    if file.endswith((\".webm\",\".mp4\")):\n",
    "        file_list.append(file)\n",
    "\n",
    "for file in file_list:\n",
    "    extract_frame(file_dir, file)"
   ]
  },
  {
   "cell_type": "code",
   "execution_count": null,
   "metadata": {},
   "outputs": [],
   "source": []
  }
 ],
 "metadata": {
  "kernelspec": {
   "display_name": "Python 3.10.2 64-bit",
   "language": "python",
   "name": "python3"
  },
  "language_info": {
   "codemirror_mode": {
    "name": "ipython",
    "version": 3
   },
   "file_extension": ".py",
   "mimetype": "text/x-python",
   "name": "python",
   "nbconvert_exporter": "python",
   "pygments_lexer": "ipython3",
   "version": "3.10.2"
  },
  "vscode": {
   "interpreter": {
    "hash": "d2b80518fa53e673bdeeaf9067691d9608a662b36240315545c935877aa6b1f7"
   }
  }
 },
 "nbformat": 4,
 "nbformat_minor": 5
}

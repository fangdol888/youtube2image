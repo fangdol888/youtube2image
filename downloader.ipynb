{
 "cells": [
  {
   "cell_type": "code",
   "execution_count": 1,
   "id": "7b9c039d",
   "metadata": {},
   "outputs": [
    {
     "name": "stdout",
     "output_type": "stream",
     "text": [
      "Requirement already satisfied: pytube in c:\\users\\h2hb0\\appdata\\local\\packages\\pythonsoftwarefoundation.python.3.9_qbz5n2kfra8p0\\localcache\\local-packages\\python39\\site-packages (12.1.0)\n"
     ]
    }
   ],
   "source": [
    "!pip install pytube"
   ]
  },
  {
   "cell_type": "code",
   "execution_count": null,
   "id": "f0918cdd",
   "metadata": {},
   "outputs": [
    {
     "name": "stdout",
     "output_type": "stream",
     "text": [
      "Downloading videos is started\n",
      "Video Shipyard Skyscrapers - London 4K - Driving Downtown is downloading...\n",
      "Downloading Shipyard Skyscrapers - London 4K - Driving Downtown is finished\n",
      "Video TOKYO NIGHT DRIVE | 深夜の六本木通りを夜景ドライブ [4K] Roppongi-dori Avenue at Midnight, Tokyo, Japan is downloading...\n",
      "Downloading TOKYO NIGHT DRIVE | 深夜の六本木通りを夜景ドライブ [4K] Roppongi-dori Avenue at Midnight, Tokyo, Japan is finished\n",
      "Video Driving Downtown - Vienna 4K - Austria is downloading...\n",
      "Downloading Driving Downtown - Vienna 4K - Austria is finished\n",
      "Video Expressway Loop - Paris 4K - Sunday Morning Drive is downloading...\n",
      "Something is wrong, stop downloading current file...\n",
      "Downloading Expressway Loop - Paris 4K - Sunday Morning Drive is finished\n",
      "Video [4K] Night Driving in Seoul is downloading...\n"
     ]
    }
   ],
   "source": [
    "from pytube import YouTube\n",
    "import os\n",
    "import glob\n",
    "\n",
    "file_dir = os.getcwd()\n",
    "txt_list = glob.glob(os.path.join(file_dir, '*.txt'))\n",
    "\n",
    "for txt in txt_list:\n",
    "    file_name = os.path.basename(txt)\n",
    "    cls = file_name.split(\".\")[0]\n",
    "    \n",
    "    save_dir = os.path.join(file_dir,\"src\")\n",
    "    \n",
    "    if os.path.exists(save_dir) == False:\n",
    "        os.mkdir(save_dir)\n",
    "\n",
    "    print(f\"Downloading videos is started\")\n",
    "    \n",
    "    with open(txt, \"r\") as f:\n",
    "        urllines = f.readlines()\n",
    "\n",
    "        for idx ,url in enumerate(urllines):\n",
    "            yt = YouTube(url)\n",
    "            try:\n",
    "                print(f\"Video {yt.title} is downloading...\")\n",
    "                stream = yt.streams.get_highest_resolution()\n",
    "                stream.download(save_dir)\n",
    "            except:\n",
    "                print(\"Something is wrong, stop downloading current file...\")\n",
    "          \n",
    "            print(f\"Downloading {yt.title} is finished\")\n",
    "            \n",
    "        print(f\"Downloading videos is finished\")\n",
    "\n",
    "print(\"Done!\")"
   ]
  },
  {
   "cell_type": "code",
   "execution_count": null,
   "id": "752040a3",
   "metadata": {},
   "outputs": [],
   "source": [
    "import cv2\n",
    "import os\n",
    "\n",
    "def extract_frame(filepath):\n",
    "    video = cv2.VideoCapture(filepath) #'' 사이에 사용할 비디오 파일의 경로 및 이름을 넣어주도록 함\n",
    "\n",
    "    if not video.isOpened():\n",
    "        print(\"Could not Open :\", filepath)\n",
    "        exit(0)\n",
    "\n",
    "\n",
    "    length = int(video.get(cv2.CAP_PROP_FRAME_COUNT))\n",
    "    width = int(video.get(cv2.CAP_PROP_FRAME_WIDTH))\n",
    "    height = int(video.get(cv2.CAP_PROP_FRAME_HEIGHT))\n",
    "    fps = video.get(cv2.CAP_PROP_FPS)\n",
    "\n",
    "    print(\"length :\", length)\n",
    "    print(\"width :\", width)\n",
    "    print(\"height :\", height)\n",
    "    print(\"fps :\", fps)\n",
    "\n",
    "\n",
    "    try:\n",
    "        if not os.path.exists(filepath[:-4]):\n",
    "            os.makedirs(filepath[:-4])\n",
    "    except OSError:\n",
    "        print ('Error: Creating directory. ' +  filepath[:-4])\n",
    "\n",
    "    count = 0\n",
    "\n",
    "    while (video.isOpened()):\n",
    "        ret, image = video.read()\n",
    "        if (int(video.get(1)) % 10 == 0):  # 앞서 불러온 fps 값을 사용하여 1초마다 추출\n",
    "            #print(\"START\")\n",
    "\n",
    "            cv2.imwrite(filepath[:-4] + \"/frame%d.jpg\" % count, image)\n",
    "            print('Saved frame number :', str(int(video.get(1))))\n",
    "            count += 1\n",
    "\n",
    "    video.release()\n",
    "\n",
    "filepath = os.path.join(file_dir, \"src\")\n",
    "file_list = []\n",
    "\n",
    "for file in os.listdir(filepath):\n",
    "    if file.endswith(\".mp4\"):\n",
    "        file_list.append(file)\n",
    "        \n",
    "for file in file_list:\n",
    "    extract_frame(file)\n",
    "\n"
   ]
  }
 ],
 "metadata": {
  "kernelspec": {
   "display_name": "Python 3 (ipykernel)",
   "language": "python",
   "name": "python3"
  },
  "language_info": {
   "codemirror_mode": {
    "name": "ipython",
    "version": 3
   },
   "file_extension": ".py",
   "mimetype": "text/x-python",
   "name": "python",
   "nbconvert_exporter": "python",
   "pygments_lexer": "ipython3",
   "version": "3.9.13"
  }
 },
 "nbformat": 4,
 "nbformat_minor": 5
}

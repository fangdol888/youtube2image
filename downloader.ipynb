{
 "cells": [
  {
   "cell_type": "code",
   "execution_count": 1,
   "source": [
    "!pip install pytube"
   ],
   "outputs": [
    {
     "output_type": "stream",
     "name": "stdout",
     "text": [
      "Requirement already satisfied: pytube in c:\\users\\h2hb0\\appdata\\local\\packages\\pythonsoftwarefoundation.python.3.9_qbz5n2kfra8p0\\localcache\\local-packages\\python39\\site-packages (12.1.0)\n"
     ]
    }
   ],
   "metadata": {
    "scrolled": true
   }
  },
  {
   "cell_type": "code",
   "execution_count": 2,
   "source": [
    "from pytube import YouTube\r\n",
    "import os\r\n",
    "import glob\r\n",
    "import cv2\r\n",
    "\r\n",
    "\r\n",
    "file_dir = os.getcwd()\r\n",
    "txt_list = glob.glob(os.path.join(file_dir, '*.txt'))"
   ],
   "outputs": [],
   "metadata": {}
  },
  {
   "cell_type": "code",
   "execution_count": 3,
   "source": [
    "\r\n",
    "for txt in txt_list:\r\n",
    "    file_name = os.path.basename(txt)\r\n",
    "    cls = file_name.split(\".\")[0]\r\n",
    "    \r\n",
    "    save_dir = os.path.join(file_dir,\"src\")\r\n",
    "    \r\n",
    "    if os.path.exists(save_dir) == False:\r\n",
    "        os.mkdir(save_dir)\r\n",
    "\r\n",
    "    print(f\"Downloading videos is started\")\r\n",
    "    \r\n",
    "    with open(txt, \"r\") as f:\r\n",
    "        urllines = f.readlines()\r\n",
    "\r\n",
    "        for idx ,url in enumerate(urllines):\r\n",
    "            yt = YouTube(url)\r\n",
    "            try:\r\n",
    "                print(f\"Video {yt.title} is downloading...\")\r\n",
    "                stream = yt.streams.filter(only_video=True).order_by('resolution').desc().first() #가장 화질 좋도록\r\n",
    "                stream.download(save_dir)\r\n",
    "            except:\r\n",
    "                print(\">>> Something is wrong, stop downloading current file...\\n\")\r\n",
    "            \r\n",
    "        print(f\"< Downloading videos is finished >\\n\")\r\n",
    "\r\n",
    "print(\"Done!\")"
   ],
   "outputs": [
    {
     "output_type": "stream",
     "name": "stdout",
     "text": [
      "Downloading videos is started\n",
      "Video Shipyard Skyscrapers - London 4K - Driving Downtown is downloading...\n"
     ]
    }
   ],
   "metadata": {
    "scrolled": true
   }
  },
  {
   "cell_type": "code",
   "execution_count": null,
   "source": [
    "def extract_frame(file_dir ,file_name):\r\n",
    "    \r\n",
    "    filepath = os.path.join(file_dir,\"src\", file_name)\r\n",
    "    video = cv2.VideoCapture(filepath) #'' 사이에 사용할 비디오 파일의 경로 및 이름을 넣어주도록 함\r\n",
    "    \r\n",
    "    if not video.isOpened():\r\n",
    "        print(\"Could not Open :\", filepath)\r\n",
    "        exit(0)\r\n",
    "\r\n",
    "\r\n",
    "    length = int(video.get(cv2.CAP_PROP_FRAME_COUNT))\r\n",
    "    width = int(video.get(cv2.CAP_PROP_FRAME_WIDTH))\r\n",
    "    height = int(video.get(cv2.CAP_PROP_FRAME_HEIGHT))\r\n",
    "    fps = video.get(cv2.CAP_PROP_FPS)\r\n",
    "\r\n",
    "    print(\"length :\", length)\r\n",
    "    print(\"width :\", width)\r\n",
    "    print(\"height :\", height)\r\n",
    "    print(\"fps :\", fps)\r\n",
    "    \r\n",
    "    frame_dir = os.path.join(file_dir,\"frame\")\r\n",
    "    frame_path = os.path.join(frame_dir, file_name[:-4])\r\n",
    "    \r\n",
    "    try:\r\n",
    "        if not os.path.exists(frame_path):\r\n",
    "            os.makedirs(frame_path)\r\n",
    "            \r\n",
    "    except OSError:\r\n",
    "        print ('Error: Creating directory. ' +  frame_path)\r\n",
    "\r\n",
    "    count = 0\r\n",
    "    success, image = video.read()\r\n",
    "    print(\"Read a new frame : \", success)\r\n",
    "        \r\n",
    "    while success:\r\n",
    "            print('Saved frame number :', count)\r\n",
    "            cv2.imwrite(frame_path + \"/frame%d.jpg\" % count, image)\r\n",
    "            video.set(cv2.CAP_PROP_POS_MSEC,(count*1000)) #1초 마다 추출\r\n",
    "            success, image = video.read()\r\n",
    "            print(\"Read a new frame : \", success)\r\n",
    "            count += 1\r\n",
    "\r\n",
    "    video.release()"
   ],
   "outputs": [],
   "metadata": {}
  },
  {
   "cell_type": "code",
   "execution_count": null,
   "source": [
    "filepath = os.path.join(file_dir, \"src\")\r\n",
    "file_list = []\r\n",
    "\r\n",
    "for file in os.listdir(filepath):\r\n",
    "    if file.endswith(\".webm\"):\r\n",
    "        file_list.append(file)\r\n",
    "\r\n",
    "for file in file_list:\r\n",
    "    extract_frame(file_dir, file)"
   ],
   "outputs": [],
   "metadata": {}
  },
  {
   "cell_type": "code",
   "execution_count": null,
   "source": [],
   "outputs": [],
   "metadata": {}
  }
 ],
 "metadata": {
  "kernelspec": {
   "name": "python3",
   "display_name": "Python 3.9.9 64-bit (windows store)"
  },
  "language_info": {
   "name": "python",
   "version": "3.9.13",
   "mimetype": "text/x-python",
   "codemirror_mode": {
    "name": "ipython",
    "version": 3
   },
   "pygments_lexer": "ipython3",
   "nbconvert_exporter": "python",
   "file_extension": ".py"
  },
  "interpreter": {
   "hash": "dc4a03f79bc3459bb2913b3aa0380fa06d1d420f825792634ca665be9791a781"
  }
 },
 "nbformat": 4,
 "nbformat_minor": 5
}